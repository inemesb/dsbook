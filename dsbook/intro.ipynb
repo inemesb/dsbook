{
 "cells": [
  {
   "cell_type": "markdown",
   "id": "21a3934d",
   "metadata": {},
   "source": [
    "# Data Science for Biotechnology students\n",
    "\n",
    "[![Jupyter Book Badge](https://jupyterbook.org/badge.svg)](https://www.kaell.se/dsbook/intro.html)\n",
    "\n",
    "This book is written with KTH's course [CB2030, Systemsbiology](https://www.kth.se/student/kurser/kurs/CB2030) in mind.\n",
    "\n",
    "```{tableofcontents}\n",
    "```\n",
    "\n",
    "<p xmlns:cc=\"http://creativecommons.org/ns#\" >This work by <span property=\"cc:attributionName\"\n",
    ">Lukas Käll</span> is licensed under <a href=\"https://creativecommons.org/licenses/by/4.0/\" \n",
    "target=\"_blank\" rel=\"license noopener noreferrer\" style=\"display:inline-block;\">CC BY 4.0\n",
    "<img style=\"height:22px!important;margin-left:3px;vertical-align:text-bottom;\"\n",
    "src=\"https://mirrors.creativecommons.org/presskit/icons/cc.svg\" alt=\"\">\n",
    "<img style=\"height:22px!important;margin-left:3px;vertical-align:text-bottom;\"\n",
    "src=\"https://mirrors.creativecommons.org/presskit/icons/by.svg\" alt=\"\"></a></p>"
   ]
  }
 ],
 "metadata": {
  "jupytext": {
   "cell_metadata_filter": "-all",
   "main_language": "python",
   "notebook_metadata_filter": "-all"
  }
 },
 "nbformat": 4,
 "nbformat_minor": 5
}
