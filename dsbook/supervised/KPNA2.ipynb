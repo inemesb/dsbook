{
 "cells": [
  {
   "cell_type": "markdown",
   "id": "483652e2",
   "metadata": {},
   "source": [
    "# Multiple Regression Analysis on KPNA2 Gene Expression\n",
    "\n",
    "Breast cancer is a heterogeneous disease with varied clinical outcomes, and understanding the molecular factors involved in its progression is critical for improving prognostic capabilities and therapeutic strategies. One area of focus has been gene expression profiling, which provides insights into the molecular pathways associated with disease aggressiveness and progression.\n",
    "\n",
    "[This study](https://doi.org/10.1093/jnci/djj052) centers on the KPNA2 gene, which encodes Karyopherin Subunit Alpha 2, a protein involved in nuclear transport. KPNA2 has been identified as a potential biomarker in breast cancer due to its association with poor prognosis and its role in various cellular processes that are critical for tumorigenesis, such as cell proliferation, differentiation, and DNA repair. Elevated levels of KPNA2 have been observed in more aggressive cancers and correlate with adverse clinical outcomes, including higher tumor grade and lymph node involvement.\n",
    "\n",
    "The dataset used here includes KPNA2 gene expression measurements from breast cancer patients, along with clinical data on histologic grade and lymph node status. Histologic grade categorizes tumor cells based on their appearance and organization, providing a measure of tumor aggressiveness. Lymph node status in this dataset indicates whether lymph nodes have been surgically removed (coded as 1) or not (coded as 0), which is another aspect of patient management and can provide context regarding the extent of surgical intervention.\n",
    "\n",
    "In this analysis, we apply a multiple regression model to examine the relationship between KPNA2 expression and clinical predictors, specifically histologic grade and lymph node status. By modeling these associations, we aim to quantify the extent to which these clinical factors are related to KPNA2 expression, thus enhancing our understanding of its role in breast cancer progression.\n",
    "\n",
    "### Read data\n",
    "\n",
    "We begin by reading a dataset, and plotting the first entries of the data set."
   ]
  },
  {
   "cell_type": "code",
   "execution_count": null,
   "id": "0109d57e",
   "metadata": {},
   "outputs": [],
   "source": [
    "import pandas as pd\n",
    "import numpy as np\n",
    "import matplotlib.pyplot as plt\n",
    "import seaborn as sns\n",
    "from sklearn.linear_model import LinearRegression\n",
    "\n",
    "# Load data (assuming data URL or local file is accessible)\n",
    "try:\n",
    "    gene_table = pd.read_csv('brc.txt')\n",
    "except:\n",
    "    from urllib.request import urlopen\n",
    "    url = 'https://raw.githubusercontent.com/statOmics/statisticalGenomicsCourse/master/tutorial1/gse2990BreastcancerOneGene.txt'\n",
    "    gene_table = pd.read_table(urlopen(url), sep=\" \")\n",
    "    gene_table.to_csv('brc.txt')\n",
    "\n",
    "# Clean data\n",
    "gene_table.head()"
   ]
  },
  {
   "cell_type": "markdown",
   "id": "86953255",
   "metadata": {},
   "source": [
    "We add a column with the log of the KNAP2 gene expression value"
   ]
  },
  {
   "cell_type": "code",
   "execution_count": null,
   "id": "9398df86",
   "metadata": {},
   "outputs": [],
   "source": [
    "# Log-transform the KPNA2 gene expression values\n",
    "gene_table[\"log_gene\"] = np.log(gene_table[\"gene\"])\n",
    "gene_table.head()"
   ]
  },
  {
   "cell_type": "markdown",
   "id": "98359f48",
   "metadata": {},
   "source": [
    "Subsequently we plot the (logged) gene expression as function of node status and tumor grade."
   ]
  },
  {
   "cell_type": "code",
   "execution_count": null,
   "id": "8b804cb5",
   "metadata": {},
   "outputs": [],
   "source": [
    "# Visualize KPNA2 expression by histologic grade and lymph node status\n",
    "plt.figure(figsize=(10, 6))\n",
    "sns.boxplot(x='grade', y='log_gene', hue='node', data=gene_table)\n",
    "plt.xlabel('Histologic Grade')\n",
    "plt.ylabel('Log-transformed KPNA2 Expression')\n",
    "plt.legend(title='Lymph Node Status')\n",
    "plt.show()"
   ]
  },
  {
   "cell_type": "markdown",
   "id": "bd597ea3",
   "metadata": {},
   "source": [
    "We then model the logged gene expression as a function on tumor size, as well as a function of Grade, Node status and size. As a first check we investigate the residual errors of the predictor."
   ]
  },
  {
   "cell_type": "code",
   "execution_count": null,
   "id": "a66f2e07",
   "metadata": {},
   "outputs": [],
   "source": [
    "# Calculate residuals for both regression models\n",
    "\n",
    "# Residuals for model with only 'size' as the independent variable\n",
    "gene_table['residuals_size'] = gene_table['log_gene'] - gene_table['predicted_log_gene_size']\n",
    "\n",
    "# Residuals for model with 'grade', 'node', and 'size' as independent variables\n",
    "gene_table['residuals_all'] = gene_table['log_gene'] - gene_table['predicted_log_gene_all']\n",
    "\n",
    "# Plot the residuals for both models\n",
    "plt.figure(figsize=(12, 6))\n",
    "\n",
    "# Residuals for size-only model\n",
    "plt.subplot(1, 2, 1)\n",
    "plt.scatter(gene_table['size'], gene_table['residuals_size'], color='blue', alpha=0.5)\n",
    "plt.axhline(0, color='red', linestyle='--', linewidth=1)\n",
    "plt.xlabel('Tumor Size')\n",
    "plt.ylabel('Residuals')\n",
    "plt.ylim(-1,1)\n",
    "plt.title('Residuals (Size-Only Model)')\n",
    "plt.grid(True)\n",
    "\n",
    "# Residuals for full model with grade, node, and size\n",
    "plt.subplot(1, 2, 2)\n",
    "plt.scatter(gene_table['size'], gene_table['residuals_all'], color='green', alpha=0.5)\n",
    "plt.axhline(0, color='red', linestyle='--', linewidth=1)\n",
    "plt.xlabel('Tumor Size')\n",
    "plt.ylabel('Residuals')\n",
    "plt.ylim(-1,1)\n",
    "plt.title('Residuals (Full Model: Grade, Node, Size)')\n",
    "plt.grid(True)\n",
    "\n",
    "plt.tight_layout()\n",
    "plt.show()"
   ]
  },
  {
   "cell_type": "markdown",
   "id": "f8c32656",
   "metadata": {},
   "source": [
    "The errors are smaller when we apply the full model compared to the regression based only on tumor size. We also plot the predictions as a function of actual value."
   ]
  },
  {
   "cell_type": "code",
   "execution_count": null,
   "id": "d6c05ec9",
   "metadata": {},
   "outputs": [],
   "source": [
    "# Scatterplots of actual vs predicted log_gene values for both models\n",
    "\n",
    "plt.figure(figsize=(12, 6))\n",
    "\n",
    "# Scatterplot for size-only model predictions\n",
    "plt.subplot(1, 2, 1)\n",
    "plt.scatter(gene_table['log_gene'], gene_table['predicted_log_gene_size'], color='blue', alpha=0.5)\n",
    "plt.plot([gene_table['log_gene'].min(), gene_table['log_gene'].max()], \n",
    "         [gene_table['log_gene'].min(), gene_table['log_gene'].max()], \n",
    "         'r--', linewidth=1)  # Line y=x for reference\n",
    "plt.xlabel('Actual Log-transformed KPNA2 Expression')\n",
    "plt.ylabel('Predicted Log-transformed KPNA2 (Size Only)')\n",
    "plt.title('Actual vs Predicted (Size Only Model)')\n",
    "plt.grid(True)\n",
    "\n",
    "# Scatterplot for full model predictions\n",
    "plt.subplot(1, 2, 2)\n",
    "plt.scatter(gene_table['log_gene'], gene_table['predicted_log_gene_all'], color='green', alpha=0.5)\n",
    "plt.plot([gene_table['log_gene'].min(), gene_table['log_gene'].max()], \n",
    "         [gene_table['log_gene'].min(), gene_table['log_gene'].max()], \n",
    "         'r--', linewidth=1)  # Line y=x for reference\n",
    "plt.xlabel('Actual Log-transformed KPNA2 Expression')\n",
    "plt.ylabel('Predicted Log-transformed KPNA2 (Grade, Node, Size)')\n",
    "plt.title('Actual vs Predicted (Full Model: Grade, Node, Size)')\n",
    "plt.grid(True)\n",
    "\n",
    "plt.tight_layout()\n",
    "plt.show()"
   ]
  }
 ],
 "metadata": {
  "kernelspec": {
   "display_name": "jb",
   "language": "python",
   "name": "python3"
  },
  "language_info": {
   "codemirror_mode": {
    "name": "ipython",
    "version": 3
   },
   "file_extension": ".py",
   "mimetype": "text/x-python",
   "name": "python",
   "nbconvert_exporter": "python",
   "pygments_lexer": "ipython3",
   "version": "3.11.8"
  }
 },
 "nbformat": 4,
 "nbformat_minor": 5
}
